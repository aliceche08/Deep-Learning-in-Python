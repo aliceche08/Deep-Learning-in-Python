# The Keras Functional API
# Input layers
from keras.layers import Input# Import Input from keras.layers
input_tensor = Input(shape=(1,))# Create an input layer of shape 1
print(input_tensor)

# Dense layers
from keras.layers import Input, Dense# Load layers
input_tensor = Input(shape=(1,))# Input layer
output_layer = Dense(1)# Dense layer
output_tensor = output_layer(input_tensor)# Connect the dense layer to the input_tensor

# Output layers
from keras.layers import Input,Dense# Load layers
input_tensor = Input(shape=(1,))# Input layer
# Create a dense layer and connect the dense layer to the input_tensor in one step
# Note that we did this in 2 steps in the previous exercise, but are doing it in one step now
output_tensor = Dense(1)(input_tensor)

# Build a model
from keras.layers import Input, Dense# Input/dense/output layers
input_tensor = Input(shape=(1,))
output_tensor = Dense(1)(input_tensor)
from keras.models import Model# Build the model
model = Model(input_tensor, output_tensor)
model.compile(optimizer='adam', loss='mean_absolute_error')# Compile the model

# Visualize a model
from keras.utils import plot_model# Import the plotting function
import matplotlib.pyplot as plt
model.summary()# Summarize the model
plot_model(model, to_file='model.png')# Plot the model
data = plt.imread('model.png')# Display the image
plt.imshow(data)
plt.show()

# Fit the model to the tournament basketball data
model.fit(games_tourney_train['seed_diff'], games_tourney_train['score_diff'],
          epochs=1,batch_size=128,validation_split=0.1,verbose=True)# Now fit the model

# Evaluate the model on a test set
X_test = games_tourney_test['seed_diff']# Load the X variable from the test data
y_test = games_tourney_test['score_diff']# Load the y variable from the test data
print(model.evaluate(X_test, y_test, verbose=False))# Evaluate the model on the test data





# Define team lookup
from keras.layers import Embedding# Imports
from numpy import unique
n_teams = unique(games_season['team_1']).shape[0]# Count the unique number of teams
team_lookup = Embedding(input_dim=n_teams,output_dim=1,input_length=1,name='Team-Strength')# Create an embedding layer

# Define team model
from keras.layers import Input, Embedding, Flatten# Imports
from keras.models import Model
teamid_in = Input(shape=(1,))# Create an input layer for the team ID
strength_lookup = team_lookup(teamid_in)# Lookup the input in the team strength embedding layer
strength_lookup_flat = Flatten()(strength_lookup)# Flatten the output
team_strength_model = Model(teamid_in, strength_lookup_flat, name='Team-Strength-Model')# Combine the operations into a single, re-usable model

# Defining two inputs
from keras.layers import Input# Load the input layer from keras.layers
team_in_1 = Input(shape=(1,), name='Team-1-In')# Input layer for team 1
team_in_2 = Input(shape=(1,), name='Team-2-In')# Separate input layer for team 2

# Lookup both inputs in the same model
team_1_strength = team_strength_model(team_in_1)# Lookup team 1 in the team strength model
team_2_strength = team_strength_model(team_in_2)# Lookup team 2 in the team strength model

# Output layer using shared layer
from keras.layers import Subtract# Import the Subtract layer from keras
score_diff = Subtract()([team_1_strength, team_2_strength])# Create a subtract layer using the inputs from the previous exercise

# Model using two inputs and one output
from keras.layers import Subtract# Imports
from keras.models import Model
score_diff = Subtract()([team_1_strength, team_2_strength])# Subtraction layer from previous exercise
model = Model([team_in_1, team_in_2], score_diff)# Create the model
model.compile(optimizer='adam', loss='mean_absolute_error')# Compile the model

# Fit the model to the regular season training data
input_1 = games_season['team_1']# Get the team_1 column from the regular season data
input_2 = games_season['team_2']# Get the team_2 column from the regular season data
model.fit([input_1,input_2],games_season['score_diff'],epochs=1,batch_size=2048,validation_split=0.1,verbose=True)# Fit the model to input 1 and 2, using score diff as a target

# Evaluate the model on the tournament test data
input_1 = games_tourney['team_1']# Get team_1 from the tournament data
input_2 = games_tourney['team_2']# Get team_2 from the tournament data
print(model.evaluate([input_1, input_2], games_tourney['score_diff'], verbose=False))# Evaluate the model using these inputs





# Multiple Inputs: 3 Inputs (and Beyond!)
# Make an input layer for home vs. away
team_in_1 = Input(shape=(1,), name='Team-1-In')# Create an Input for each team
team_in_2 = Input(shape=(1,), name='Team-2-In')
home_in = Input(shape=(1,), name='Home-In')# Create an input for home vs away
team_1_strength = team_strength_model(team_in_1)# Lookup the team inputs in the team strength model
team_2_strength = team_strength_model(team_in_2)
out = Concatenate()([team_1_strength, team_2_strength, home_in])# Combine the team strengths with the home input using a Concatenate layer, then add a Dense layer
out = Dense(1)(out)

# Make a model and compile it
from keras.models import Model# Import the model class
model = Model([team_in_1, team_in_2, home_in], out)# Make a Model
model.compile(optimizer='adam', loss='mean_absolute_error')# Compile the model

# Fit the model and evaluate
model.fit([games_season['team_1'], games_season['team_2'], games_season['home']],
          games_season['score_diff'],epochs=1,verbose=True,validation_split=.10,batch_size=2048)# Fit the model to the games_season dataset
print(model.evaluate([games_tourney['team_1'], games_tourney['team_2'], games_tourney['home']],
               games_tourney['score_diff'], verbose=False))# Evaluate the model on the games_tourney dataset

# Plotting models
import matplotlib.pyplot as plt# Imports
from keras.utils import plot_model
plot_model(model, to_file='model.png')# Plot the model
data = plt.imread('model.png')# Display the image
plt.imshow(data)
plt.show()

# Add the model predictions to the tournament data
games_tourney['pred'] = model.predict([games_tourney['team_1'],games_tourney['team_2'],games_tourney['home']])# Predict

# Create an input layer with multiple columns
input_tensor = Input((3,))# Create an input layer with 3 columns
output_tensor = Dense(1)(input_tensor)# Pass it to a Dense layer with 1 unit
model = Model(input_tensor, output_tensor)# Create a model
model.compile(optimizer='adam', loss='mean_absolute_error')# Compile the model
model.fit(games_tourney_train[['home', 'seed_diff', 'pred']],games_tourney_train['score_diff],epochs=1,verbose=True)# Fit the model
print(model.evaluate(games_tourney_test[['home', 'seed_diff', 'prediction']],
               games_tourney_test['score_diff'], verbose=False))# Evaluate the model on the games_tourney_test dataset





# Two-output models
# Simple two-output model
input_tensor = Input((2,))# Define the input
output_tensor = Dense(2)(input_tensor)# Define the output
model = Model(input_tensor,output_tensor)# Create a model
model.compile(optimizer='adam',loss='mean_absolute_error')# Compile the model
model.fit(games_tourney_train[['seed_diff', 'pred']],games_tourney_train[['score_1', 'score_2']],
  		  verbose=True,epochs=100,batch_size=16384)# Fit the model

# Inspect the model (I)
print(model.get_weights())# Print the model's weights
print(games_tourney_train.mean())# Print the column means of the training data

# Evaluate the model 
print(model.evaluate(games_tourney_test[['seed_diff', 'pred']],games_tourney_test[['score_1', 'score_2']], verbose=False))# Evaluate the model on the tournament test data

# Classification and regression in one model
input_tensor = Input((2,))# Create an input layer with 2 columns
output_tensor_1 = Dense(1, activation='linear', use_bias=False)(input_tensor)# Create the first output
output_tensor_2 = Dense(1, activation='sigmoid', use_bias=False)(output_tensor_1)# Create the second output (use the first output as input here)
model = Model(input_tensor, [output_tensor_1, output_tensor_2])# Create a model with 2 outputs

# Compile and fit the model
from keras.optimizers import Adam# Import the Adam optimizer
model.compile(loss=['mean_absolute_error', 'binary_crossentropy'], optimizer=Adam(0.01))# Compile the model with 2 losses and the Adam optimzer with a higher learning rate
model.fit(games_tourney_train[['seed_diff', 'pred']],[games_tourney_train[['score_diff']], games_tourney_train[['won']]],
          epochs=10,verbose=True,batch_size=16384)# Fit the model to the tournament training data, with 2 inputs and 2 outputs

# Inspect the model (II)
print(model.get_weights())# Print the model weights
print(games_tourney_train.mean())# Print the training data means
from scipy.special import expit as sigmoid# Import the sigmoid function from scipy
weight = 0.14# Weight from the model
print(sigmoid(1 * weight))# Print the approximate win probability predicted close game
print(sigmoid(10 * weight))# Print the approximate win probability predicted blowout game
print(model.evaluate(games_tourney_test[['seed_diff', 'pred']],
               [games_tourney_test[['score_diff']], games_tourney_test[['won']]], verbose=False))# Evaluate the model on new data
